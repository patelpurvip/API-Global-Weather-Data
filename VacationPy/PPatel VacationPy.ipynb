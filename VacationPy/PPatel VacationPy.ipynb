{
 "cells": [
  {
   "cell_type": "markdown",
   "metadata": {},
   "source": [
    "# PPatel VacationPy\n"
   ]
  },
  {
   "cell_type": "code",
   "execution_count": 22,
   "metadata": {},
   "outputs": [],
   "source": [
    "# Dependencies and Setup\n",
    "import matplotlib.pyplot as plt\n",
    "import pandas as pd\n",
    "import numpy as np\n",
    "import requests\n",
    "import gmaps\n",
    "import os\n",
    "from pprint import pprint\n",
    "\n",
    "# Import API key\n",
    "from api_keys import g_key"
   ]
  },
  {
   "cell_type": "markdown",
   "metadata": {},
   "source": [
    "### Store Part I results into DataFrame\n",
    "* Load the csv exported in Part I to a DataFrame"
   ]
  },
  {
   "cell_type": "code",
   "execution_count": 23,
   "metadata": {},
   "outputs": [
    {
     "data": {
      "text/html": [
       "<div>\n",
       "<style scoped>\n",
       "    .dataframe tbody tr th:only-of-type {\n",
       "        vertical-align: middle;\n",
       "    }\n",
       "\n",
       "    .dataframe tbody tr th {\n",
       "        vertical-align: top;\n",
       "    }\n",
       "\n",
       "    .dataframe thead th {\n",
       "        text-align: right;\n",
       "    }\n",
       "</style>\n",
       "<table border=\"1\" class=\"dataframe\">\n",
       "  <thead>\n",
       "    <tr style=\"text-align: right;\">\n",
       "      <th></th>\n",
       "      <th>city</th>\n",
       "      <th>country</th>\n",
       "      <th>lat</th>\n",
       "      <th>lon</th>\n",
       "      <th>temp</th>\n",
       "      <th>humidity</th>\n",
       "      <th>cloudiness</th>\n",
       "      <th>windspeed</th>\n",
       "    </tr>\n",
       "  </thead>\n",
       "  <tbody>\n",
       "    <tr>\n",
       "      <td>0</td>\n",
       "      <td>san cristobal</td>\n",
       "      <td>VE</td>\n",
       "      <td>7.77</td>\n",
       "      <td>-72.22</td>\n",
       "      <td>84.20</td>\n",
       "      <td>54</td>\n",
       "      <td>20</td>\n",
       "      <td>8.05</td>\n",
       "    </tr>\n",
       "    <tr>\n",
       "      <td>1</td>\n",
       "      <td>ola</td>\n",
       "      <td>RU</td>\n",
       "      <td>59.58</td>\n",
       "      <td>151.28</td>\n",
       "      <td>24.44</td>\n",
       "      <td>93</td>\n",
       "      <td>80</td>\n",
       "      <td>19.44</td>\n",
       "    </tr>\n",
       "    <tr>\n",
       "      <td>2</td>\n",
       "      <td>san patricio</td>\n",
       "      <td>MX</td>\n",
       "      <td>19.22</td>\n",
       "      <td>-104.70</td>\n",
       "      <td>82.40</td>\n",
       "      <td>65</td>\n",
       "      <td>5</td>\n",
       "      <td>17.22</td>\n",
       "    </tr>\n",
       "    <tr>\n",
       "      <td>3</td>\n",
       "      <td>takayama</td>\n",
       "      <td>JP</td>\n",
       "      <td>36.13</td>\n",
       "      <td>137.25</td>\n",
       "      <td>32.86</td>\n",
       "      <td>66</td>\n",
       "      <td>90</td>\n",
       "      <td>3.42</td>\n",
       "    </tr>\n",
       "    <tr>\n",
       "      <td>4</td>\n",
       "      <td>corralillo</td>\n",
       "      <td>CU</td>\n",
       "      <td>22.98</td>\n",
       "      <td>-80.59</td>\n",
       "      <td>75.16</td>\n",
       "      <td>71</td>\n",
       "      <td>0</td>\n",
       "      <td>17.20</td>\n",
       "    </tr>\n",
       "  </tbody>\n",
       "</table>\n",
       "</div>"
      ],
      "text/plain": [
       "            city country    lat     lon   temp  humidity  cloudiness  \\\n",
       "0  san cristobal      VE   7.77  -72.22  84.20        54          20   \n",
       "1            ola      RU  59.58  151.28  24.44        93          80   \n",
       "2   san patricio      MX  19.22 -104.70  82.40        65           5   \n",
       "3       takayama      JP  36.13  137.25  32.86        66          90   \n",
       "4     corralillo      CU  22.98  -80.59  75.16        71           0   \n",
       "\n",
       "   windspeed  \n",
       "0       8.05  \n",
       "1      19.44  \n",
       "2      17.22  \n",
       "3       3.42  \n",
       "4      17.20  "
      ]
     },
     "execution_count": 23,
     "metadata": {},
     "output_type": "execute_result"
    }
   ],
   "source": [
    "weather_data = 'weatherdata.csv'\n",
    "cities_data = pd.read_csv(weather_data)\n",
    "cities_data.head()"
   ]
  },
  {
   "cell_type": "markdown",
   "metadata": {},
   "source": [
    "### Humidity Heatmap\n",
    "* Configure gmaps.\n",
    "* Use the Lat and Lng as locations and Humidity as the weight.\n",
    "* Add Heatmap layer to map."
   ]
  },
  {
   "cell_type": "code",
   "execution_count": 24,
   "metadata": {},
   "outputs": [],
   "source": [
    "gmaps.configure(api_key=g_key)"
   ]
  },
  {
   "cell_type": "code",
   "execution_count": 25,
   "metadata": {},
   "outputs": [
    {
     "data": {
      "application/vnd.jupyter.widget-view+json": {
       "model_id": "96da51fbc2a1460f92a6d6613d064085",
       "version_major": 2,
       "version_minor": 0
      },
      "text/plain": [
       "Figure(layout=FigureLayout(height='420px'))"
      ]
     },
     "metadata": {},
     "output_type": "display_data"
    }
   ],
   "source": [
    "humidity = cities_data['humidity']\n",
    "locations = cities_data[['lat', 'lon']]\n",
    "\n",
    "fig = gmaps.figure()\n",
    "heat_layer = gmaps.heatmap_layer(locations, weights=humidity, \n",
    "                                 dissipating=False, max_intensity=10,\n",
    "                                 point_radius=1)\n",
    "fig.add_layer(heat_layer)\n",
    "fig"
   ]
  },
  {
   "cell_type": "markdown",
   "metadata": {},
   "source": [
    "### Create new DataFrame fitting weather criteria\n",
    "* Narrow down the cities to fit weather conditions.\n",
    "* Drop any rows will null values."
   ]
  },
  {
   "cell_type": "code",
   "execution_count": 26,
   "metadata": {},
   "outputs": [
    {
     "data": {
      "text/plain": [
       "city          33\n",
       "country       33\n",
       "lat           33\n",
       "lon           33\n",
       "temp          33\n",
       "humidity      33\n",
       "cloudiness    33\n",
       "windspeed     33\n",
       "dtype: int64"
      ]
     },
     "execution_count": 26,
     "metadata": {},
     "output_type": "execute_result"
    }
   ],
   "source": [
    "ideal_hum = cities_data.loc[cities_data[\"humidity\"] > 80]\n",
    "ideal_humcloud = ideal_hum.loc[ideal_hum[\"cloudiness\"] <= 50]\n",
    "ideal_humcloudwind = ideal_humcloud.loc[ideal_humcloud[\"windspeed\"] < 15]\n",
    "ideal_humcloudwind_lowtemp = ideal_humcloudwind.loc[ideal_humcloudwind[\"temp\"] >= 70]             \n",
    "ideal_conditions = ideal_humcloudwind_lowtemp.loc[ideal_humcloudwind_lowtemp[\"temp\"] < 90]\n",
    "ideal_conditions.count()"
   ]
  },
  {
   "cell_type": "code",
   "execution_count": 27,
   "metadata": {},
   "outputs": [
    {
     "data": {
      "text/html": [
       "<div>\n",
       "<style scoped>\n",
       "    .dataframe tbody tr th:only-of-type {\n",
       "        vertical-align: middle;\n",
       "    }\n",
       "\n",
       "    .dataframe tbody tr th {\n",
       "        vertical-align: top;\n",
       "    }\n",
       "\n",
       "    .dataframe thead th {\n",
       "        text-align: right;\n",
       "    }\n",
       "</style>\n",
       "<table border=\"1\" class=\"dataframe\">\n",
       "  <thead>\n",
       "    <tr style=\"text-align: right;\">\n",
       "      <th></th>\n",
       "      <th>city</th>\n",
       "      <th>country</th>\n",
       "      <th>lat</th>\n",
       "      <th>lon</th>\n",
       "      <th>temp</th>\n",
       "      <th>humidity</th>\n",
       "      <th>cloudiness</th>\n",
       "      <th>windspeed</th>\n",
       "    </tr>\n",
       "  </thead>\n",
       "  <tbody>\n",
       "    <tr>\n",
       "      <td>34</td>\n",
       "      <td>mar del plata</td>\n",
       "      <td>AR</td>\n",
       "      <td>-38.00</td>\n",
       "      <td>-57.56</td>\n",
       "      <td>71.74</td>\n",
       "      <td>88</td>\n",
       "      <td>44</td>\n",
       "      <td>11.41</td>\n",
       "    </tr>\n",
       "    <tr>\n",
       "      <td>45</td>\n",
       "      <td>le port</td>\n",
       "      <td>RE</td>\n",
       "      <td>-20.94</td>\n",
       "      <td>55.29</td>\n",
       "      <td>71.35</td>\n",
       "      <td>83</td>\n",
       "      <td>40</td>\n",
       "      <td>8.05</td>\n",
       "    </tr>\n",
       "    <tr>\n",
       "      <td>65</td>\n",
       "      <td>vila velha</td>\n",
       "      <td>BR</td>\n",
       "      <td>-20.33</td>\n",
       "      <td>-40.29</td>\n",
       "      <td>78.06</td>\n",
       "      <td>83</td>\n",
       "      <td>20</td>\n",
       "      <td>6.93</td>\n",
       "    </tr>\n",
       "    <tr>\n",
       "      <td>98</td>\n",
       "      <td>georgetown</td>\n",
       "      <td>MY</td>\n",
       "      <td>5.41</td>\n",
       "      <td>100.34</td>\n",
       "      <td>78.40</td>\n",
       "      <td>94</td>\n",
       "      <td>20</td>\n",
       "      <td>3.36</td>\n",
       "    </tr>\n",
       "    <tr>\n",
       "      <td>150</td>\n",
       "      <td>nampula</td>\n",
       "      <td>MZ</td>\n",
       "      <td>-15.12</td>\n",
       "      <td>39.27</td>\n",
       "      <td>71.60</td>\n",
       "      <td>94</td>\n",
       "      <td>40</td>\n",
       "      <td>6.93</td>\n",
       "    </tr>\n",
       "  </tbody>\n",
       "</table>\n",
       "</div>"
      ],
      "text/plain": [
       "              city country    lat     lon   temp  humidity  cloudiness  \\\n",
       "34   mar del plata      AR -38.00  -57.56  71.74        88          44   \n",
       "45         le port      RE -20.94   55.29  71.35        83          40   \n",
       "65      vila velha      BR -20.33  -40.29  78.06        83          20   \n",
       "98      georgetown      MY   5.41  100.34  78.40        94          20   \n",
       "150        nampula      MZ -15.12   39.27  71.60        94          40   \n",
       "\n",
       "     windspeed  \n",
       "34       11.41  \n",
       "45        8.05  \n",
       "65        6.93  \n",
       "98        3.36  \n",
       "150       6.93  "
      ]
     },
     "execution_count": 27,
     "metadata": {},
     "output_type": "execute_result"
    }
   ],
   "source": [
    "ideal_conditions.head()"
   ]
  },
  {
   "cell_type": "markdown",
   "metadata": {},
   "source": [
    "### Hotel Map\n",
    "* Store into variable named `hotel_df`.\n",
    "* Add a \"Hotel Name\" column to the DataFrame.\n",
    "* Set parameters to search for hotels with 5000 meters.\n",
    "* Hit the Google Places API for each city's coordinates.\n",
    "* Store the first Hotel result into the DataFrame.\n",
    "* Plot markers on top of the heatmap."
   ]
  },
  {
   "cell_type": "code",
   "execution_count": 28,
   "metadata": {},
   "outputs": [
    {
     "data": {
      "text/html": [
       "<div>\n",
       "<style scoped>\n",
       "    .dataframe tbody tr th:only-of-type {\n",
       "        vertical-align: middle;\n",
       "    }\n",
       "\n",
       "    .dataframe tbody tr th {\n",
       "        vertical-align: top;\n",
       "    }\n",
       "\n",
       "    .dataframe thead th {\n",
       "        text-align: right;\n",
       "    }\n",
       "</style>\n",
       "<table border=\"1\" class=\"dataframe\">\n",
       "  <thead>\n",
       "    <tr style=\"text-align: right;\">\n",
       "      <th></th>\n",
       "      <th>city</th>\n",
       "      <th>country</th>\n",
       "      <th>lat</th>\n",
       "      <th>lon</th>\n",
       "      <th>temp</th>\n",
       "      <th>humidity</th>\n",
       "      <th>cloudiness</th>\n",
       "      <th>windspeed</th>\n",
       "      <th>hotel</th>\n",
       "    </tr>\n",
       "  </thead>\n",
       "  <tbody>\n",
       "    <tr>\n",
       "      <td>34</td>\n",
       "      <td>mar del plata</td>\n",
       "      <td>AR</td>\n",
       "      <td>-38.00</td>\n",
       "      <td>-57.56</td>\n",
       "      <td>71.74</td>\n",
       "      <td>88</td>\n",
       "      <td>44</td>\n",
       "      <td>11.41</td>\n",
       "      <td></td>\n",
       "    </tr>\n",
       "    <tr>\n",
       "      <td>45</td>\n",
       "      <td>le port</td>\n",
       "      <td>RE</td>\n",
       "      <td>-20.94</td>\n",
       "      <td>55.29</td>\n",
       "      <td>71.35</td>\n",
       "      <td>83</td>\n",
       "      <td>40</td>\n",
       "      <td>8.05</td>\n",
       "      <td></td>\n",
       "    </tr>\n",
       "    <tr>\n",
       "      <td>65</td>\n",
       "      <td>vila velha</td>\n",
       "      <td>BR</td>\n",
       "      <td>-20.33</td>\n",
       "      <td>-40.29</td>\n",
       "      <td>78.06</td>\n",
       "      <td>83</td>\n",
       "      <td>20</td>\n",
       "      <td>6.93</td>\n",
       "      <td></td>\n",
       "    </tr>\n",
       "    <tr>\n",
       "      <td>98</td>\n",
       "      <td>georgetown</td>\n",
       "      <td>MY</td>\n",
       "      <td>5.41</td>\n",
       "      <td>100.34</td>\n",
       "      <td>78.40</td>\n",
       "      <td>94</td>\n",
       "      <td>20</td>\n",
       "      <td>3.36</td>\n",
       "      <td></td>\n",
       "    </tr>\n",
       "    <tr>\n",
       "      <td>150</td>\n",
       "      <td>nampula</td>\n",
       "      <td>MZ</td>\n",
       "      <td>-15.12</td>\n",
       "      <td>39.27</td>\n",
       "      <td>71.60</td>\n",
       "      <td>94</td>\n",
       "      <td>40</td>\n",
       "      <td>6.93</td>\n",
       "      <td></td>\n",
       "    </tr>\n",
       "  </tbody>\n",
       "</table>\n",
       "</div>"
      ],
      "text/plain": [
       "              city country    lat     lon   temp  humidity  cloudiness  \\\n",
       "34   mar del plata      AR -38.00  -57.56  71.74        88          44   \n",
       "45         le port      RE -20.94   55.29  71.35        83          40   \n",
       "65      vila velha      BR -20.33  -40.29  78.06        83          20   \n",
       "98      georgetown      MY   5.41  100.34  78.40        94          20   \n",
       "150        nampula      MZ -15.12   39.27  71.60        94          40   \n",
       "\n",
       "     windspeed hotel  \n",
       "34       11.41        \n",
       "45        8.05        \n",
       "65        6.93        \n",
       "98        3.36        \n",
       "150       6.93        "
      ]
     },
     "execution_count": 28,
     "metadata": {},
     "output_type": "execute_result"
    }
   ],
   "source": [
    "hotel_df = pd.DataFrame(ideal_conditions)\n",
    "hotel_df[\"hotel\"] = \"\"\n",
    "hotel_df.head()"
   ]
  },
  {
   "cell_type": "code",
   "execution_count": 29,
   "metadata": {},
   "outputs": [
    {
     "name": "stdout",
     "output_type": "stream",
     "text": [
      "no hotels available\n",
      "no hotels available\n"
     ]
    }
   ],
   "source": [
    "for index, row in hotel_df.iterrows():\n",
    "    lat = hotel_df.loc[index, \"lat\"]\n",
    "    lng = hotel_df.loc[index, \"lon\"]\n",
    "    \n",
    "    base_url = \"https://maps.googleapis.com/maps/api/place/nearbysearch/json\"\n",
    "    \n",
    "    target_coordinates = f\"{lat},{lng}\"\n",
    "    target_search = \"hotel\"\n",
    "    target_radius = 8000\n",
    "    target_type = \"hotel\"\n",
    "\n",
    "    params = {\n",
    "        \"location\": target_coordinates,\n",
    "        \"keyword\": target_search,\n",
    "        \"radius\": target_radius,\n",
    "        \"type\": target_type,\n",
    "        \"key\": g_key}\n",
    "    \n",
    "    hotels = requests.get(base_url, params=params).json()\n",
    "    try:\n",
    "        hotel_df.loc[index, \"hotel\"] = hotels['results'][0]['name']\n",
    "    except:\n",
    "        print(\"no hotels available\")"
   ]
  },
  {
   "cell_type": "code",
   "execution_count": 30,
   "metadata": {},
   "outputs": [
    {
     "data": {
      "text/html": [
       "<div>\n",
       "<style scoped>\n",
       "    .dataframe tbody tr th:only-of-type {\n",
       "        vertical-align: middle;\n",
       "    }\n",
       "\n",
       "    .dataframe tbody tr th {\n",
       "        vertical-align: top;\n",
       "    }\n",
       "\n",
       "    .dataframe thead th {\n",
       "        text-align: right;\n",
       "    }\n",
       "</style>\n",
       "<table border=\"1\" class=\"dataframe\">\n",
       "  <thead>\n",
       "    <tr style=\"text-align: right;\">\n",
       "      <th></th>\n",
       "      <th>city</th>\n",
       "      <th>country</th>\n",
       "      <th>lat</th>\n",
       "      <th>lon</th>\n",
       "      <th>temp</th>\n",
       "      <th>humidity</th>\n",
       "      <th>cloudiness</th>\n",
       "      <th>windspeed</th>\n",
       "      <th>hotel</th>\n",
       "    </tr>\n",
       "  </thead>\n",
       "  <tbody>\n",
       "    <tr>\n",
       "      <td>34</td>\n",
       "      <td>mar del plata</td>\n",
       "      <td>AR</td>\n",
       "      <td>-38.00</td>\n",
       "      <td>-57.56</td>\n",
       "      <td>71.74</td>\n",
       "      <td>88</td>\n",
       "      <td>44</td>\n",
       "      <td>11.41</td>\n",
       "      <td>Hermitage Hotel</td>\n",
       "    </tr>\n",
       "    <tr>\n",
       "      <td>45</td>\n",
       "      <td>le port</td>\n",
       "      <td>RE</td>\n",
       "      <td>-20.94</td>\n",
       "      <td>55.29</td>\n",
       "      <td>71.35</td>\n",
       "      <td>83</td>\n",
       "      <td>40</td>\n",
       "      <td>8.05</td>\n",
       "      <td>Lodge Roche Tamarin &amp; Spa Village Nature</td>\n",
       "    </tr>\n",
       "    <tr>\n",
       "      <td>65</td>\n",
       "      <td>vila velha</td>\n",
       "      <td>BR</td>\n",
       "      <td>-20.33</td>\n",
       "      <td>-40.29</td>\n",
       "      <td>78.06</td>\n",
       "      <td>83</td>\n",
       "      <td>20</td>\n",
       "      <td>6.93</td>\n",
       "      <td>Ibis sleep inn</td>\n",
       "    </tr>\n",
       "    <tr>\n",
       "      <td>98</td>\n",
       "      <td>georgetown</td>\n",
       "      <td>MY</td>\n",
       "      <td>5.41</td>\n",
       "      <td>100.34</td>\n",
       "      <td>78.40</td>\n",
       "      <td>94</td>\n",
       "      <td>20</td>\n",
       "      <td>3.36</td>\n",
       "      <td>Arte S Penang</td>\n",
       "    </tr>\n",
       "    <tr>\n",
       "      <td>150</td>\n",
       "      <td>nampula</td>\n",
       "      <td>MZ</td>\n",
       "      <td>-15.12</td>\n",
       "      <td>39.27</td>\n",
       "      <td>71.60</td>\n",
       "      <td>94</td>\n",
       "      <td>40</td>\n",
       "      <td>6.93</td>\n",
       "      <td>Hotel Paraíso</td>\n",
       "    </tr>\n",
       "  </tbody>\n",
       "</table>\n",
       "</div>"
      ],
      "text/plain": [
       "              city country    lat     lon   temp  humidity  cloudiness  \\\n",
       "34   mar del plata      AR -38.00  -57.56  71.74        88          44   \n",
       "45         le port      RE -20.94   55.29  71.35        83          40   \n",
       "65      vila velha      BR -20.33  -40.29  78.06        83          20   \n",
       "98      georgetown      MY   5.41  100.34  78.40        94          20   \n",
       "150        nampula      MZ -15.12   39.27  71.60        94          40   \n",
       "\n",
       "     windspeed                                     hotel  \n",
       "34       11.41                           Hermitage Hotel  \n",
       "45        8.05  Lodge Roche Tamarin & Spa Village Nature  \n",
       "65        6.93                            Ibis sleep inn  \n",
       "98        3.36                             Arte S Penang  \n",
       "150       6.93                             Hotel Paraíso  "
      ]
     },
     "execution_count": 30,
     "metadata": {},
     "output_type": "execute_result"
    }
   ],
   "source": [
    "hotel_df.head()"
   ]
  },
  {
   "cell_type": "code",
   "execution_count": 31,
   "metadata": {},
   "outputs": [],
   "source": [
    "# NOTE: Do not change any of the code in this cell\n",
    "\n",
    "# Using the template add the hotel marks to the heatmap\n",
    "info_box_template = \"\"\"\n",
    "<dl>\n",
    "<dt>Name</dt><dd>{hotel}</dd>\n",
    "<dt>City</dt><dd>{city}</dd>\n",
    "</dl>\n",
    "\"\"\"\n",
    "# Store the DataFrame Row\n",
    "# NOTE: be sure to update with your DataFrame name\n",
    "hotel_info = [info_box_template.format(**row) for index, row in hotel_df.iterrows()]\n",
    "locations = hotel_df[[\"lat\", \"lon\"]]"
   ]
  },
  {
   "cell_type": "code",
   "execution_count": 70,
   "metadata": {},
   "outputs": [
    {
     "data": {
      "application/vnd.jupyter.widget-view+json": {
       "model_id": "96da51fbc2a1460f92a6d6613d064085",
       "version_major": 2,
       "version_minor": 0
      },
      "text/plain": [
       "Figure(layout=FigureLayout(height='420px'))"
      ]
     },
     "metadata": {},
     "output_type": "display_data"
    }
   ],
   "source": [
    "# Add marker layer ontop of heat map\n",
    "hotel = hotel_df[\"hotel\"]\n",
    "city = hotel_df[\"city\"]\n",
    "markers = gmaps.marker_layer(locations,\n",
    "    info_box_content=[f\"Hotel Suggestion: {hotel}\" for hotel in hotel])\n",
    "\n",
    "fig.add_layer(markers)\n",
    "fig\n"
   ]
  },
  {
   "cell_type": "code",
   "execution_count": 63,
   "metadata": {},
   "outputs": [
    {
     "data": {
      "text/plain": [
       "<Figure size 432x288 with 0 Axes>"
      ]
     },
     "metadata": {},
     "output_type": "display_data"
    }
   ],
   "source": []
  },
  {
   "cell_type": "code",
   "execution_count": null,
   "metadata": {},
   "outputs": [],
   "source": []
  }
 ],
 "metadata": {
  "kernelspec": {
   "display_name": "Python 3",
   "language": "python",
   "name": "python3"
  },
  "language_info": {
   "codemirror_mode": {
    "name": "ipython",
    "version": 3
   },
   "file_extension": ".py",
   "mimetype": "text/x-python",
   "name": "python",
   "nbconvert_exporter": "python",
   "pygments_lexer": "ipython3",
   "version": "3.7.4"
  }
 },
 "nbformat": 4,
 "nbformat_minor": 2
}
